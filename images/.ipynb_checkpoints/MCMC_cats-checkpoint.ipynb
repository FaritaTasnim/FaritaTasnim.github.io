{
 "cells": [
  {
   "cell_type": "code",
   "execution_count": 1,
   "id": "8a997724",
   "metadata": {},
   "outputs": [],
   "source": [
    "import numpy as np\n",
    "%matplotlib widget\n",
    "import matplotlib\n",
    "from mpl_toolkits.mplot3d import Axes3D\n",
    "import matplotlib.pyplot as plt\n",
    "import matplotlib.colors as colors\n",
    "import itertools\n",
    "from functools import reduce\n",
    "from scipy.stats import entropy\n",
    "from itertools import product\n",
    "from copy import deepcopy"
   ]
  },
  {
   "cell_type": "markdown",
   "id": "3c573e92",
   "metadata": {},
   "source": [
    "## Setting up Cat Country"
   ]
  },
  {
   "cell_type": "code",
   "execution_count": 5,
   "id": "d2e23025",
   "metadata": {},
   "outputs": [
    {
     "name": "stdout",
     "output_type": "stream",
     "text": [
      "\u001b[92m- \u001b[92m- \u001b[92m- \u001b[92m- \u001b[92m- \u001b[92m- \u001b[92m- \u001b[92m- \u001b[92m- \u001b[92m-\n",
      "\u001b[92m- \u001b[92m- \u001b[92m- \u001b[92m- \u001b[92m- \u001b[93mO \u001b[92m- \u001b[92m- \u001b[92m- \u001b[92m-\n",
      "\u001b[92m- \u001b[92m- \u001b[92m- \u001b[92m- \u001b[93mO \u001b[92m- \u001b[93mO \u001b[92m- \u001b[92m- \u001b[92m-\n",
      "\u001b[92m- \u001b[92m- \u001b[92m- \u001b[92m- \u001b[92m- \u001b[93mO \u001b[92m- \u001b[92m- \u001b[92m- \u001b[92m-\n",
      "\u001b[92m- \u001b[92m- \u001b[92m- \u001b[92m- \u001b[92m- \u001b[92m- \u001b[92m- \u001b[92m- \u001b[92m- \u001b[92m-\n",
      "\u001b[92m- \u001b[92m- \u001b[92m- \u001b[92m- \u001b[92m- \u001b[92m- \u001b[92m- \u001b[92m- \u001b[92m- \u001b[92m-\n",
      "\u001b[92m- \u001b[92m- \u001b[92m- \u001b[92m- \u001b[92m- \u001b[92m- \u001b[92m- \u001b[92m- \u001b[92m- \u001b[92m-\n",
      "\u001b[92m- \u001b[92m- \u001b[92m- \u001b[92m- \u001b[92m- \u001b[92m- \u001b[92m- \u001b[92m- \u001b[92m- \u001b[92m-\n",
      "\u001b[92m- \u001b[92m- \u001b[92m- \u001b[92m- \u001b[92m- \u001b[92m- \u001b[92m- \u001b[92m- \u001b[92m- \u001b[92m-\n",
      "\u001b[92m- \u001b[92m- \u001b[92m- \u001b[92m- \u001b[92m- \u001b[92m- \u001b[92m- \u001b[92m- \u001b[92m- \u001b[92m-\n"
     ]
    }
   ],
   "source": [
    "def initialize_cat_grid_neighbors (L):\n",
    "    # create a numpy ndarray to represent the regular lattice\n",
    "    # allows for efficient operations over the lattice space\n",
    "    N = L**2\n",
    "    lattice_shape = (L,L)\n",
    "    lattice_array = np.arange(N).reshape(lattice_shape)\n",
    "    \n",
    "    # function to get the index (location) of a desired cat in the lattice\n",
    "    loc = lambda s : list(zip(*np.where(lattice_array == s)))[0]\n",
    "    \n",
    "    all_cat_locs = [loc(i) for i in range(N)]\n",
    "    \n",
    "    offsets = []\n",
    "    for dim in range(2):\n",
    "        offsetplus = np.zeros(2)\n",
    "        offsetplus[dim] = 1\n",
    "        offsets.append(offsetplus)\n",
    "        offsetminus = np.zeros(2)\n",
    "        offsetminus[dim] = -1\n",
    "        offsets.append(offsetminus)\n",
    "    offsets = np.array(offsets, dtype=int)\n",
    "    \n",
    "    def get_neighbors(cat):\n",
    "\n",
    "        this_cat_loc = loc(cat)\n",
    "\n",
    "        '''\n",
    "        The boundary conditions wrap around,\n",
    "        making the 2D lattice connected according to a toroidal / donut shape.\n",
    "        This is so that each cat on a corner or edge also has a full set of 4 neighbors.\n",
    "        '''\n",
    "        def correct_edges (row):\n",
    "            out = deepcopy(row)\n",
    "            for idx in range(len(lattice_shape)):\n",
    "                if row[idx] == lattice_shape[idx] and this_cat_loc[idx] == lattice_shape[idx] - 1:\n",
    "                    out[idx] = 0\n",
    "\n",
    "            return out\n",
    "        \n",
    "        neighbors = this_cat_loc + offsets\n",
    "        neighbors = np.apply_along_axis(correct_edges, 1, neighbors)\n",
    "        return set([lattice_array.item(tuple(n)) for n in neighbors])\n",
    "    \n",
    "    all_neighbors = {i: get_neighbors(i) for i in range(N)}\n",
    "\n",
    "    return N, lattice_array, all_neighbors\n",
    "\n",
    "'''\n",
    "Call the function above to initialize the grid of cats (each cat has a specific number assigned to it), \n",
    "and to create a dictionary that maps every cat to its set of neighbors.\n",
    "\n",
    "You can change the number of cats in the cat country by changing L. \n",
    "Since the cats live on a 2D grid, the number of cats N = L*L\n",
    "'''\n",
    "\n",
    "L = 10\n",
    "num_cats, cats, cat_neighbors = initialize_cat_grid_neighbors (L)\n",
    "# function to get the index (location) of a desired cat in the lattice\n",
    "loc = lambda s : list(zip(*np.where(cats == s)))[0]\n",
    "\n",
    "\n",
    "'''\n",
    "Display the resulting 2D grid of cats, numbered\n",
    "'''\n",
    "\n",
    "# print(cats)\n",
    "# print()\n",
    "\n",
    "'''\n",
    "Display the each neighbor of a specific cat with \"O\".\n",
    "'''\n",
    "\n",
    "\n",
    "def print_colored_neighbors(i):\n",
    "    for row in cats:\n",
    "        print(' '.join('\\033[93m' + 'O' if element in cat_neighbors[i]\n",
    "                   else '\\033[92m' + '-'\n",
    "                   for element in row))\n",
    "\n",
    "'''\n",
    "To change the cat in question, change the argument of the following function.\n",
    "'''\n",
    "print_colored_neighbors(25)"
   ]
  },
  {
   "cell_type": "markdown",
   "id": "61d44195",
   "metadata": {},
   "source": [
    "## Functions for Simulation"
   ]
  },
  {
   "cell_type": "code",
   "execution_count": 3,
   "id": "4b4b3e1c",
   "metadata": {},
   "outputs": [],
   "source": [
    "'''\n",
    "Functions that initialize the cat opinions and carry forward the MCMC simulation\n",
    "'''\n",
    "\n",
    "def initialize_cat_opinions ():\n",
    "    '''\n",
    "    This function randomly fills in each cat's opinion with 50% probability for and 50% probability against.\n",
    "    '''\n",
    "    return np.random.choice([-1, 1], num_cats, p=[0.5, 0.5]).reshape((L, L))\n",
    "\n",
    "def average_opinion (opinions):\n",
    "    # maybe change this to return pass to make students do it :)\n",
    "    return np.sum(opinions)/num_cats\n",
    "\n",
    "def friction (cat, opinions):\n",
    "    '''\n",
    "    This function returns the amount of friction that an individual cat has with its neighbors\n",
    "    '''\n",
    "    this_opinion = opinions[loc(cat)]\n",
    "    neighbor_opinions = [opinions[loc(n)] for n in cat_neighbors[cat]]\n",
    "    friction = np.sum(-1*this_opinion*neighbor_opinions)\n",
    "    # maybe change this to friction = pass to make students do it :)\n",
    "    return friction\n",
    "\n",
    "def delta_friction_if_flipped (cat, opinions):\n",
    "    '''\n",
    "    This function returns how the friction that an individual cat has with its neighbors \n",
    "    would change if that cat flipped its opinion\n",
    "    '''\n",
    "    this_opinion = opinions[loc(cat)]\n",
    "    neighbor_opinions = [opinions[loc(n)] for n in cat_neighbors[cat]]\n",
    "    delta_friction = np.sum(-1*this_opinion*neighbor_opinions) - np.sum(this_opinion*neighbor_opinions)\n",
    "    # maybe change this to delta_friction = pass to make students do it :)\n",
    "    return delta_friction\n",
    "\n",
    "def MCMC_cats_one_step(I, opinions):\n",
    "    '''\n",
    "    This function changes the state of a randomly chosen cat according to the MCMC algorithm\n",
    "    '''\n",
    "    candidate_cat = np.random.choice(num_cats)\n",
    "    df = delta_friction_if_flipped (candidate_cat, opinions)\n",
    "    prob_flip = np.min([np.exp(df / I), 1])\n",
    "    # maybe change this to prob_flip = pass to make students do it :)\n",
    "    a = np.random.rand()\n",
    "    if a < prob_flip:\n",
    "        opinions[loc(candidate_cat)] = -1*opinions[loc(candidate_cat)]\n",
    "    return opinions\n",
    "\n",
    "def MCMC_cats(I, opinions, num_steps):\n",
    "    \n",
    "    for step in range(num_steps):\n",
    "        opinions = MCMC_cats_one_step(I, opinions)\n",
    "        \n",
    "    return opinions"
   ]
  },
  {
   "cell_type": "markdown",
   "id": "b2ebf4ba",
   "metadata": {},
   "source": [
    "## Running the Simulations & Plotting the Results"
   ]
  },
  {
   "cell_type": "code",
   "execution_count": 4,
   "id": "f853a640",
   "metadata": {},
   "outputs": [
    {
     "name": "stderr",
     "output_type": "stream",
     "text": [
      "C:\\Users\\farit\\AppData\\Local\\Temp\\ipykernel_17824\\956150026.py:39: RuntimeWarning: overflow encountered in exp\n",
      "  prob_flip = np.min([np.exp(df / I), 1])\n"
     ]
    },
    {
     "data": {
      "text/plain": [
       "<matplotlib.collections.PathCollection at 0x172b2cf7e80>"
      ]
     },
     "execution_count": 4,
     "metadata": {},
     "output_type": "execute_result"
    },
    {
     "data": {
      "application/vnd.jupyter.widget-view+json": {
       "model_id": "ad7095d718f24a369632796de6375311",
       "version_major": 2,
       "version_minor": 0
      },
      "image/png": "[encoded data removed]",
      "text/html": [
       "\n",
       "            <div style=\"display: inline-block;\">\n",
       "                <div class=\"jupyter-widgets widget-label\" style=\"text-align: center;\">\n",
       "                    Figure\n",
       "                </div>\n",
       "                <img src='data:image/png;base64,iVBORw0KGgoAAAANSUhEUgAAAyAAAAH0CAYAAADFQEl4AAAAOXRFWHRTb2Z0d2FyZQBNYXRwbG90bGliIHZlcnNpb24zLjUuMSwgaHR0cHM6Ly9tYXRwbG90bGliLm9yZy/YYfK9AAAACXBIWXMAAA9hAAAPYQGoP6dpAABE2klEQVR4nO3de3xU1b338e8kSCYIE+5JBoPcWgxylUtMWk89JSUo9sBztJUeCkoVjlSoNFYD51GoYotRaymVUywVQapHCy1ib1yMRa1EwGCOxEYeRTBCSBCQDIkScGY/f6QZHXKHmTWZvT/v12tedfasmb32yk46X/Zvre2yLMsSAAAAABgQF+0OAAAAAHAOAggAAAAAYwggAAAAAIwhgAAAAAAwhgACAAAAwBgCCAAAAABjCCAAAAAAjCGAAAAAADCGAAIAAADAGAIIAAAAAGMIIAAAAACMIYAAAAAAMIYAAgAAAMAYAggAAAAAYwggAAAAAIwhgAAAAAAwhgACAAAAwBgCCAAAAABjCCAAAAAAjCGAAAAAADCGAAIAAADAGAIIAAAAAGMIIAAAAACMIYAAAAAAMIYAAgAAAMAYAggAAAAAYwggAAAAAIwhgAAAAAAwhgACAAAAwBgCCAAAAABjCCAAAAAAjCGAAAAAADCGAAIAAADAGAIIAAAAAGMIIAAAAACMIYAAAAAAMIYAAgAAAMAYAggAAAAAYwggAAAAAIwhgAAAAAAwhgACAAAAwBgCCAAAAABjCCAAAAAAjCGAAAAAADCGAAIAAADAGAIIAAAAAGMIIAAAAACMIYAAAAAAMIYAAgAAAMAYAggAAAAAYwggAAAAAIwhgAAAAAAwhgACAAAAwBgCCAAAAABjCCAAAAAAjCGAAAAAADCGAAIAAADAGAIIAAAAAGM6RLsD+FwgEFB5ebm6dOkil8sV7e4AAADgHJZl6dSpU/J6vYqL49/yzwcBpB0pLy9XWlpatLsBAACAFnz44Ye65JJLot2NmEQAaUe6dOkiqe6E9ng8Ue4NAAAAzuXz+ZSWlhb83oa2I4C0I/VlVx6PhwACAADQjlEuf/4oXAMAAABgDAEEAAAAgDEEEAAAAADGEEAAAAAAGEMAAQAAAGAMAQQAAACAMQQQAAAAAMYQQAAAAAAYQwABAAAAYAwBBAAAAIAxjgwgr7zyir75zW/K6/XK5XLp+eefb/E927dv1xVXXKGEhAQNGjRIa9asadBmxYoV6tevn9xutzIyMrRr167wdz5MApZfB4+9qpJD63Xw2KsKWP6I7u+zwBm9vn+F/vrWnXp9/wp9FjgT0f1J5o/R9P7O+D/VX/43V7/dMVl/+d9cnfF/GtH9AQAAhEOHaHcgGmpqajRixAh973vf07//+7+32P7AgQOaNGmSbrvtNj399NMqKCjQrbfeqtTUVOXk5EiSnnvuOeXm5mrlypXKyMjQsmXLlJOTo3379ql3796RPqQ2KS3fpC1783Tq9OHgti7uPsoZlq907+Sw7+/Fknv0+v5fylLgC9v+S1cOnKfsoQ+EfX+S+WM0vb/nXp+q/1f55+DzAx+9pKKDq/Tl5Em68cpnw74/AACAcHFZlmVFuxPR5HK5tHHjRk2ZMqXJNnl5efrzn/+skpKS4LapU6fq5MmT2rx5syQpIyNDY8eO1WOPPSZJCgQCSktL07x587RgwYJW9cXn8ykpKUlVVVXyeDznf1DNKC3fpA27p0s698fukiTdMHZdWL8wv1hyjwr3/6LJ1zMH3hH2EGL6GE3v79zwcS5CCAAAkWPi+5rdObIEq60KCwuVnZ0dsi0nJ0eFhYWSpDNnzqioqCikTVxcnLKzs4Nt2oOA5deWvXlq+EVZwW1bS/LCVjpUV3b1y2bbvL7/sbCWY5k+RtP7O+P/tNnwIUn/r/LPlGMBAIB2iwDSChUVFUpOTg7ZlpycLJ/Pp08//VTHjh2T3+9vtE1FRUWTn1tbWyufzxfyiKSy4ztCSoQasuT79LDKju8Iy/7eOLAqpOyq8T369caBVWHZn2T+GE3v78WS/xvWdgAAAKYRQKJo6dKlSkpKCj7S0tIiur/q002HofNp15KPa94Pa7vWMH2Mpvd3omZ/WNsBAACYRgBphZSUFFVWVoZsq6yslMfjUWJionr27Kn4+PhG26SkpDT5uQsXLlRVVVXw8eGHH0ak//U6u5vuy/m0a0m3iweEtV1rmD5G0/vrfvHAsLYDAAAwjQDSCpmZmSooKAjZtm3bNmVmZkqSOnbsqNGjR4e0CQQCKigoCLZpTEJCgjweT8gjkvr2yFIXdx/VT45uyCVPYh/17ZEVlv2N6T9LrhZOMZfiNab/rLDsTzJ/jKb3lz30J2FtBwAAYJojA0h1dbWKi4tVXFwsqW6Z3eLiYpWVlUmquzIxY8aMYPvbbrtN77//vu6++2698847+u///m/97ne/0w9/+MNgm9zcXK1atUpr165VaWmp5syZo5qaGs2cOdPosTUnzhWvnGH5/3x27hfmuucThuYrzhUflv11iOuoKwfOa7bNlQPnqkNcx7DsTzJ/jKb31zE+UV9OntRsmy8nT1LH+MSw7A8AACDcHBlA3njjDY0aNUqjRo2SVBceRo0apUWLFkmSjhw5EgwjktS/f3/9+c9/1rZt2zRixAj97Gc/029+85vgPUAk6cYbb9QjjzyiRYsWaeTIkSouLtbmzZsbTEyPtnTvZN0wdp26uL0h2z2J3rAvFytJ2UMfUObAOxpcCXEpPiJL8Ermj9H0/m688tkmQwhL8AIAgPbO8fcBaU9MrisdsPwqO75D1acr1Nmdor49ssL2r/SN+SxwRm8cWKWPa95Xt4sHaEz/WWG98tEY08doen9n/J/qxZL/qxM1+9X94oHKHvqTiF75MH18AAC0R9wH5MIRQNoRTmi0V6bv9A4AQHvF97UL58gSLACtV3+n93Pvd3LqdLk27J6u0vJNUeoZAACIRQQQAE0yfad3AABgfwQQAE0yfaf3LwpYfh089qpKDq3XwWOvEnIAALCJDtHuAID2y/Sd3usx5wQAAPviCgiAJpm+07vEnBMAAOyOAAKgSabv9M6cEwAA7I8AAqBJpu/0Hs05JwAAwAwCCIBmmbzTe7TmnAAAAHOYhA6gReneyRqcel3E74QejTknAADALAIIgFaJc8WrX8+rIrqP+jknp06Xq/F5IC55Er1hm3MCAADMowQLQLthes4JAAAwjwACoF0xOecEAACYRwkWgHbH1JwTAABgHgEEQLtkYs4JAAAwjxIsAAAAAMYQQAAAAAAYQwABAAAAYAwBBAAAAIAxBBAAAAAAxhBAAAAAABhDAAEAAABgDAEEAAAAgDEEEAAAAADGEEAAAAAAGEMAAQAAAGAMAQQAAACAMQQQAAAAAMYQQAAAAAAYQwABAAAAYAwBBAAAAIAxBBAAAAAAxhBAAAAAABjj6ACyYsUK9evXT263WxkZGdq1a1eTba+++mq5XK4Gj0mTJgXb3HzzzQ1enzhxoolDAQAAAGJCh2h3IFqee+455ebmauXKlcrIyNCyZcuUk5Ojffv2qXfv3g3a/+EPf9CZM2eCz48fP64RI0boW9/6Vki7iRMn6sknnww+T0hIiNxBAAAAADHGsVdAHn30Uc2aNUszZ87UkCFDtHLlSnXq1EmrV69utH337t2VkpISfGzbtk2dOnVqEEASEhJC2nXr1s3E4QAAAAAxwZEB5MyZMyoqKlJ2dnZwW1xcnLKzs1VYWNiqz3jiiSc0depUXXzxxSHbt2/frt69e2vw4MGaM2eOjh8/3uRn1NbWyufzhTwAAAAAO3NkADl27Jj8fr+Sk5NDticnJ6uioqLF9+/atUslJSW69dZbQ7ZPnDhRTz31lAoKCpSfn6+XX35Z11xzjfx+f6Ofs3TpUiUlJQUfaWlp539QAAAAQAxw7ByQC/HEE09o2LBhGjduXMj2qVOnBv972LBhGj58uAYOHKjt27dr/PjxDT5n4cKFys3NDT73+XyEEAAAANiaI6+A9OzZU/Hx8aqsrAzZXllZqZSUlGbfW1NTo2effVa33HJLi/sZMGCAevbsqffee6/R1xMSEuTxeEIeAAAAgJ05MoB07NhRo0ePVkFBQXBbIBBQQUGBMjMzm33v+vXrVVtbq+9+97st7ufQoUM6fvy4UlNTL7jPAAAAgB04MoBIUm5urlatWqW1a9eqtLRUc+bMUU1NjWbOnClJmjFjhhYuXNjgfU888YSmTJmiHj16hGyvrq7WXXfdpddff10HDx5UQUGBJk+erEGDBiknJ8fIMQEAAADtnWPngNx444366KOPtGjRIlVUVGjkyJHavHlzcGJ6WVmZ4uJC89m+ffv097//XVu3bm3wefHx8Xrrrbe0du1anTx5Ul6vVxMmTNCSJUu4FwgAAADwTy7LsqxodwJ1fD6fkpKSVFVVxXwQAACAdojvaxfOsSVYAAAAAMwjgAAAAAAwhgACAAAAwBgCCAAAAABjCCAAAAAAjCGAAAAAADCGAAIAAADAGAIIAAAAAGMIIAAAAACMIYAAAAAAMIYAAgAAAMAYAggAAAAAYwggAAAAAIwhgAAAAAAwhgACAAAAwJgO0e4AALQHAcuvsuM7VH26Qp3dKerbI0txrvhodwsAANshgABwvNLyTdqyN0+nTh8Obuvi7qOcYflK906OYs8AALAfSrAAOFpp+SZt2D09JHxI0qnT5dqwe7pKyzdFqWcAANgTAQSAYwUsv7bszZNkNfJq3batJXkKWH6j/QIAwM4IIAAcq+z4jgZXPkJZ8n16WGXHdxjrEwAAdkcAAeBY1acrwtoOAAC0jAACwLE6u1PC2g4AALSMAALAsfr2yFIXdx9JriZauORJ7KO+PbJMdgsAAFsjgABwrDhXvHKG5f/z2bkhpO75hKH53A8EAIAwIoAAcLR072TdMHaduri9Ids9iV7dMHYd9wEBACDMuBEhAMdL907W4NTruBM6AAAGEEAAQHXlWP16XhXtbgAAYHuUYAEAAAAwhgACAAAAwBgCCAAAAABjCCAAAAAAjCGAAAAAADDG0QFkxYoV6tevn9xutzIyMrRr164m265Zs0Yulyvk4Xa7Q9pYlqVFixYpNTVViYmJys7O1rvvvhvpwwAAAABihmMDyHPPPafc3FwtXrxYe/bs0YgRI5STk6OjR482+R6Px6MjR44EHx988EHI6w899JCWL1+ulStXaufOnbr44ouVk5Oj06dPR/pwAAAAgJjg2ADy6KOPatasWZo5c6aGDBmilStXqlOnTlq9enWT73G5XEpJSQk+kpOTg69ZlqVly5bpnnvu0eTJkzV8+HA99dRTKi8v1/PPP2/giAAAAID2z5EB5MyZMyoqKlJ2dnZwW1xcnLKzs1VYWNjk+6qrq3XppZcqLS1NkydP1ttvvx187cCBA6qoqAj5zKSkJGVkZDT7mQAAAICTODKAHDt2TH6/P+QKhiQlJyeroqKi0fcMHjxYq1ev1qZNm/Tb3/5WgUBAWVlZOnTokCQF39eWz6ytrZXP5wt5AKgTsPw6eOxVlRxar4PHXlXA8ke7SwAAIAw6RLsDsSIzM1OZmZnB51lZWUpPT9fjjz+uJUuWnNdnLl26VPfdd1+4ugjYRmn5Jm3Zm6dTpw8Ht3Vx91HOsHyleydHsWcAAOBCOfIKSM+ePRUfH6/KysqQ7ZWVlUpJSWnVZ1x00UUaNWqU3nvvPUkKvq8tn7lw4UJVVVUFHx9++GFbDwWwndLyTdqwe3pI+JCkU6fLtWH3dJWWb4pSzwAAQDg4MoB07NhRo0ePVkFBQXBbIBBQQUFByFWO5vj9fu3du1epqamSpP79+yslJSXkM30+n3bu3NnkZyYkJMjj8YQ8ED6U8MSegOXXlr15kqxGXq3btrUkj58lAAAxzLElWLm5ubrppps0ZswYjRs3TsuWLVNNTY1mzpwpSZoxY4b69OmjpUuXSpLuv/9+XXnllRo0aJBOnjyphx9+WB988IFuvfVWSXUrZM2fP18PPPCAvvSlL6l///6699575fV6NWXKlGgdpmNRwhObyo7vaHDlI5Ql36eHVXZ8h/r1vMpYvwAAQPg4NoDceOON+uijj7Ro0SJVVFRo5MiR2rx5c3ASeVlZmeLiPr9A9PHHH2vWrFmqqKhQt27dNHr0aO3YsUNDhgwJtrn77rtVU1Oj2bNn6+TJk/rqV7+qzZs3N7hhISKrvoTn3H9Fry/huWHsOkJIO1V9uvEFG863HQAAaH9clmU1VuuAKPD5fEpKSlJVVRXlWOcpYPm1fOvlzfwrukueRK/mfeNtxbnijfYNLTt47FWte+3aFttN/8pfuAICAIgKvq9dOEfOAYF9taWEB+1P3x5Z6uLuI8nVRAuXPIl91LdHlsluAQCAMCKAwFYo4Yltca545QzL/+ezc0NI3fMJQ/O5egUAQAwjgMBWOrtbt4xya9vBvHTvZN0wdp26uL0h2z2JXubvAABgA46dhA57qi/hOXW6XI0v5Vo3B4QSnvYt3TtZg1OvU9nxHao+XaHO7hT17ZFluysfActv+2MEAOBcBBDYSn0JT90qWC6FhhBKeGJJnCve1hPNWSoaAOBUlGDBdijhQXvH3d4BAE7GFRDYklNKeBB7Wr7bu0tbS/I0OPU6zlcAgC0RQGBbdi/hQWzibu8AAKejBAsADGKpaACA0xFAAMAglooGADgdAQQADOJu7wAApyOAAIBB3O0dAOB0BBAAMIylogEATsYqWAAQBSwVDQBwKgIIAEQJS0UDAJyIEiwAAAAAxhBAAAAAABhDAAEAAABgDAEEAAAAgDEEEAAAAADGEEAAAAAAGEMAAQAAAGAMAQQAAACAMQQQAAAAAMYQQAAAAAAYQwABAAAAYAwBBAAAAIAxBBAAAAAAxnSIdgcAAGYELL/Kju9Q9ekKdXanqG+PLMW54qPdLQCAwxBAAMABSss3acvePJ06fTi4rYu7j3KG5SvdOzmKPQMAOA0lWABgc6Xlm7Rh9/SQ8CFJp06Xa8Pu6Sot3xSlngEAnIgAAgA2FrD82rI3T5LVyKt127aW5Clg+Y32CwDgXAQQALCxsuM7Glz5CGXJ9+lhlR3fYaxPAABnc3QAWbFihfr16ye3262MjAzt2rWrybarVq3SVVddpW7duqlbt27Kzs5u0P7mm2+Wy+UKeUycODHShwEATao+XRHWdgAAXCjHBpDnnntOubm5Wrx4sfbs2aMRI0YoJydHR48ebbT99u3b9Z3vfEd/+9vfVFhYqLS0NE2YMEGHD4f+y+LEiRN15MiR4ON//ud/TBwOADSqszslrO0AALhQLsuyGisMtr2MjAyNHTtWjz32mCQpEAgoLS1N8+bN04IFC1p8v9/vV7du3fTYY49pxowZkuqugJw8eVLPP//8efXJ5/MpKSlJVVVV8ng85/UZAPBFAcuv5Vsv16nT5Wp8HohLnkSv5n3jbZbkBYBW4PvahXPkFZAzZ86oqKhI2dnZwW1xcXHKzs5WYWFhqz7jk08+0dmzZ9W9e/eQ7du3b1fv3r01ePBgzZkzR8ePHw9r3wGgLeJc8coZlv/PZ65zXq17PmFoPuEDAGCMIwPIsWPH5Pf7lZycHLI9OTlZFRWtq4POy8uT1+sNCTETJ07UU089pYKCAuXn5+vll1/WNddcI7+/8dVlamtr5fP5Qh4AEG7p3sm6Yew6dXF7Q7Z7Er26Yew67gMCADCKGxGehwcffFDPPvustm/fLrfbHdw+derU4H8PGzZMw4cP18CBA7V9+3aNHz++wecsXbpU9913n5E+A3C2dO9kDU69jjuhAwCizpFXQHr27Kn4+HhVVlaGbK+srFRKSvMTMR955BE9+OCD2rp1q4YPH95s2wEDBqhnz5567733Gn194cKFqqqqCj4+/PDDth0IALRBnCte/XpepaGXfEv9el5F+AAARIUjA0jHjh01evRoFRQUBLcFAgEVFBQoMzOzyfc99NBDWrJkiTZv3qwxY8a0uJ9Dhw7p+PHjSk1NbfT1hIQEeTyekAcAAABgZ44MIJKUm5urVatWae3atSotLdWcOXNUU1OjmTNnSpJmzJihhQsXBtvn5+fr3nvv1erVq9WvXz9VVFSooqJC1dXVkqTq6mrdddddev3113Xw4EEVFBRo8uTJGjRokHJycqJyjAAAAEB749g5IDfeeKM++ugjLVq0SBUVFRo5cqQ2b94cnJheVlamuLjP89mvfvUrnTlzRjfccEPI5yxevFg//vGPFR8fr7feektr167VyZMn5fV6NWHCBC1ZskQJCQlGjw0AACBg+Zn3hXbJsfcBaY9YVxoAAIRDafkmbdmbp1OnP79hchd3H+UMy2fluwvE97UL59gSLAAAADsqLd+kDbunh4QPSTp1ulwbdk9XafmmKPUMqOPYEiwAANC+2L1kyMTxBSy/tuzNk9RYgYslyaWtJXkanHqdrcYWsYUAAgAAos7uJUOmjq/s+I4GVz5CWfJ9elhlx3eoX8+rwrZfoC0owQIAAFFl95Ihk8dXfboirO2ASCCAAACAqGm5ZEjaWpKngOU32q9wMX18nRJ6hbUdEAkEEAAAEDVtKRmKRaaPzxXmdkAkEEAAAEDU2L1kyPTx1dR+FNZ2QCQQQAAAQNR0dqeEtV17Y/r47D6esAdWwQIA4Dx8FjijNw6s0sc176vbxQM0pv8sdYjrGNF92nGZ2r49stTF3UenTper8XkSLnkSverbIyvs+zYxnqaPL5rjKdnzHEX4EUAAAGijF0vu0ev7fylLgS9s+y9dOXCesoc+EJF92nWZ2jhXvHKG5WvD7umqm5nwxS/NdTMVJgzND/uXWFPjafr4ojWekn3PUYQfJVgAALTBiyX3qHD/L0LChyRZCqhw/y/0Ysk9Yd+n3ZepTfdO1g1j16mL2xuy3ZPo1Q1j14X9y6vp8TR9fKb3J9n/HEV4uSzLauz6HKLA5/MpKSlJVVVV8ng80e4OAOAcnwXO6ME/9moQPr7IpXgt+ObRsJVjBSy/lm+9vJmVlOpKauZ94+2YL3UxdafwaI2n6fIkU/tz0jkq8X0tHCjBAgCgld44sKrZ8CFJlvx648AqXTnw9rDs00l3to5zxUf8GKI5niaOLxr7i+aYMuckNhFAAABopY9r3g9ru9aw+zK1pjGe4RetMWXOSexiDggAAK3U7eIBYW3XGiyrGl6MZ/hFY0yZcxLbCCAAALTSmP6z5Grh/zpditeY/rPCts/6ZVWbvne1S57EPhFbVtVuGM/wMz2mAcuvLXvz1Pgyw3XbtpbkKWD5w7I/hB8BBACAVuoQ11FXDpzXbJsrB84N6/1A6pdVrXPuF7zILqtqR4xn+Jke07bMOUH7RAABAKANsoc+oMyBdzS4EuJSvDIH3hGR+4BEY1lVO2M8w8/kmDKPJ/axDG87wrJuABA7uBN67GM8w8/EmB489qrWvXZti+2mf+UvEVkFjO9rF45VsAAAEWH3L3d15VjhWWoX0WF6WVwnMDGm9XNOTp0uV+PzQOruO8I8nvaLAAIACDuWxww/xhSoUz/nZMPu6aqbY/LFEMI8nljAHBAAQFixPGb4MaZAKObxxDbmgLQj1BQCiHUBy6/lWy9vZoWautKIed94m3+dbCUnjandy/YQftE4Z/i+duEowQIAhE1blsek9r51nDKmlJjhfDCPJzZRggUACBuWxww/J4wpJWaAsxBAAABh09mdEtZ2sP+YcldrwHkIIACAsKlfHrPh3ZDrueRJ7MPymG1g9zHlrtb2ErD8OnjsVZUcWq+Dx14lOKJRzAEBAIQNy2OGn93H1AklZk7BPB60FldAAABhxfKY4WfnMbV7iZlTMI8HbcEyvO0Iy7oBsBOWVA0/02NqYn+fLzPc/F2tI7HMMOdoeDhpqWiJ72vhQAkWACAiWB4z/EyOqalymmiVmFEuFD5OWSoa4UMJFgAACGG6nMZ0iRnlQuHFPB60FVdAAABAUMvL4rq0tSRPg1OvC+tViXTvZA1Ovc5IyVc0js/OLk7oFdZ2sD9HXwFZsWKF+vXrJ7fbrYyMDO3atavZ9uvXr9dll10mt9utYcOG6S9/+UvI65ZladGiRUpNTVViYqKys7P17rvvRvIQAKDVWB4z9pn4GUZzWdz6ErOhl3xL/XpeFZEAwLK/4dfaycSRmHTM37XY5NgrIM8995xyc3O1cuVKZWRkaNmyZcrJydG+ffvUu3fvBu137Nih73znO1q6dKmuu+46PfPMM5oyZYr27NmjoUOHSpIeeughLV++XGvXrlX//v117733KicnR//4xz/kdrtNHyIABFHvHvtM/QztXk5j9+OLhk9qPwpru9bi71rscuwVkEcffVSzZs3SzJkzNWTIEK1cuVKdOnXS6tWrG23/i1/8QhMnTtRdd92l9PR0LVmyRFdccYUee+wxSXVXP5YtW6Z77rlHkydP1vDhw/XUU0+pvLxczz//vMEjA4BQ1LvHPpM/Q7svi2v344uGaIwpf9dimyMDyJkzZ1RUVKTs7Ozgtri4OGVnZ6uwsLDR9xQWFoa0l6ScnJxg+wMHDqiioiKkTVJSkjIyMpr8TACItJbr3aWtJXm2KFuwaymG6Z+h3e+8Hs3js+s5anpMnfR3za4cWYJ17Ngx+f1+JScnh2xPTk7WO++80+h7KioqGm1fUVERfL1+W1NtzlVbW6va2trgc5/P17YDAYAWOGV5TDuXYpj+Gdr9zuufH993m2hhsexvG5k+Z5zyd83OHHkFpL1YunSpkpKSgo+0tLRodwmAzTih3t3upRjR+Bna+c7r0WD3c1Qye8444e+a3TnyCkjPnj0VHx+vysrKkO2VlZVKSWm8PjElJaXZ9vX/W1lZqdTU1JA2I0eObPQzFy5cqNzc3OBzn89HCAEQVnavd3fCkqrR+hmaWhbXtM/PmaaE95xxwjlaz9Q5Y/e/a07gyCsgHTt21OjRo1VQUBDcFggEVFBQoMzMzEbfk5mZGdJekrZt2xZs379/f6WkpIS08fl82rlzZ5OfmZCQII/HE/IAgHCyez2/E5ZUjebP0MSyuKaZPmeccI5+kYlzxu5/15zAkQFEknJzc7Vq1SqtXbtWpaWlmjNnjmpqajRz5kxJ0owZM7Rw4cJg+zvuuEObN2/Wz372M73zzjv68Y9/rDfeeENz586VJLlcLs2fP18PPPCAXnjhBe3du1czZsyQ1+vVlClTonGIABCsza5z7v9Zx349vxNKMez+MzTN9DnjhHPUNH4nYp9jA8iNN96oRx55RIsWLdLIkSNVXFyszZs3ByeRl5WV6ciRI8H2WVlZeuaZZ/TrX/9aI0aM0IYNG/T8888H7wEiSXfffbfmzZun2bNna+zYsaqurtbmzZu5BwiAqLJzPb9TSjHs/DM0zfQ545Rz1DR+J2Kby7KsSNyYEufB5/MpKSlJVVVVlGMBCLuA5bddPf9ngTN68I+9ZCnQZBuX4rXgm0fVIa6jwZ5Fhh1/hl9k4vgCll/Lt16uU6fL1fi8DJc8iV7N+8bbYZsDYnJ/ThON3wm+r104R05CBwAnqq/NtpNDJ3Y2Gz4kyZJfh07stMWx2/FnWM/UMrWml4y1+7LG0Wbn3wk7c2wJFgAg9lFfbw+ml6k1Xb5DuRAQiisgAICYRX197IvWMrWmlxm267LGwPkggAAAYlb9cpwt1dezHGf7Fc27Wpsu36FcCKhDCRYAIGaxHGfso4wOcB4CCAAgplFfH9soowOchxIsAEBEmFwek/r62EUZHeA8BBAAQNiZWlL1i6ivj00sUws4DyVYAICwMr2kKmIfZXSAs3AFBAAQNtFaUhWxjzI6wDkIIACAsInmkqqIfZTRAc5ACRYAIGxYUhUA0BICCAAgbFhSFQDQEkqwAABhw5Kq9mJyKWUAzkEAAQCEDUuq2kc0llIG4AyUYAEAwoolVWMfSykDiCSugAAAwo4lVWMXSykDiDQCCAAgIlhSNTaxlDKASKMECwAABLGUMoBII4AAAIAgllIGEGmUYAFAlLDEKdojllIGEGkEEACIApY4RXvFUsoAIo0SLAAwjCVO0d6xlDKASOIKCAAYxBKniBUspQwgUgggAGBQNJc4Zc4J2oqllAFEAgEEAAyK1hKnzDkBALQXzAEBAIOiscQpc04AAO0JAQQADKpf4rR+NaGGXPIk9gnbEqctzzmRtpbkKWD5w7I/AE0LWH4dPPaqSg6t18Fjr/J7B8eiBAsADDK9xGk055wA+BxlkMDnuAICAIaZXOI0WnNOAHyOMkggFFdAACAKTC1xGo05JwA+x9LbQEMEEACIEhNLnNbPOTl1ulyNfwFyyZPoDducE9gLSzdfOMoggYYIIABgY6bnnMA+mLMQHpRBAg05bg7IiRMnNG3aNHk8HnXt2lW33HKLqqurm20/b948DR48WImJierbt69+8IMfqKqqKqSdy+Vq8Hj22WcjfTgA0CKTc05gD8xZCB/KIIGGHHcFZNq0aTpy5Ii2bdums2fPaubMmZo9e7aeeeaZRtuXl5ervLxcjzzyiIYMGaIPPvhAt912m8rLy7Vhw4aQtk8++aQmTpwYfN61a9dIHgoAtJqpOSdfRPlObGLOQnhRBgk05LIsq7HfBlsqLS3VkCFDtHv3bo0ZM0aStHnzZl177bU6dOiQvF5vC59QZ/369frud7+rmpoadehQl+FcLpc2btyoKVOmnHf/fD6fkpKSVFVVJY/Hc96fAwDRRvlO7Dp47FWte+3aFttN/8pfmLPQSvVXlOo0LIPkSmRs4fvahXNUCVZhYaG6du0aDB+SlJ2drbi4OO3cubPVn1N/wtWHj3q33367evbsqXHjxmn16tVqKdvV1tbK5/OFPAAg1lG+E9uYsxB+lEECoRxVglVRUaHevXuHbOvQoYO6d++uiorW/SE9duyYlixZotmzZ4dsv//++/X1r39dnTp10tatW/X9739f1dXV+sEPftDkZy1dulT33Xdf2w8EANopyndiH3MWIiMaZZBAe2WLALJgwQLl5+c326a0tPSC9+Pz+TRp0iQNGTJEP/7xj0Neu/fee4P/PWrUKNXU1Ojhhx9uNoAsXLhQubm5IZ+flpZ2wf0EEBvsOEeCJUdjH3MWIsfE0ttALLBFALnzzjt18803N9tmwIABSklJ0dGjR0O2f/bZZzpx4oRSUpr/l5xTp05p4sSJ6tKlizZu3KiLLrqo2fYZGRlasmSJamtrlZCQ0GibhISEJl8DYG92nSNB+U7sY+lmAJFmiwDSq1cv9erVq8V2mZmZOnnypIqKijR69GhJ0ksvvaRAIKCMjIwm3+fz+ZSTk6OEhAS98MILcrvdLe6ruLhY3bp1I2AAaODzCamh/7pcP0cilmvCKd+xh/o5C+eGZE+iVxOGxnZIBhB9tgggrZWenq6JEydq1qxZWrlypc6ePau5c+dq6tSpwRWwDh8+rPHjx+upp57SuHHj5PP5NGHCBH3yySf67W9/GzJZvFevXoqPj9cf//hHVVZW6sorr5Tb7da2bdv005/+VD/60Y+iebgA2iG7z5FwUvmOHUvovog5C4gFdv89tCtHBRBJevrppzV37lyNHz9ecXFxuv7667V8+fLg62fPntW+ffv0ySefSJL27NkTXCFr0KBBIZ914MAB9evXTxdddJFWrFihH/7wh7IsS4MGDdKjjz6qWbNmmTswADHB7nMknFK+Y9cSunMxZwHtmVN+D+3IUfcBae9YVxqwv5JD67Wx6Hsttvs/o1dr6CXfMtCjyGjsi4EnsY8tyneaKqHjng6AOdH8PeT72oVz3BUQAIgmp8yRsGv5jt1L6IBYwO9h7COAAIBBTpojYcfyHbuX0AGxgN/D2OeoO6EDQLTVz5Go4zrnVfvMkbArlhkGoo/fw9hHAAEAw+qXOO3i9oZs9yR6mT/QzjmlhA5oz/g9jH2UYAFAFNh1joTdOamEDrHPrkvU8nsY+wggABAldpwjYXdOWWYYsc/OS9Tyexj7KMECAKANKKFDe1e/RO25E7VPnS7Xht3TVVq+KUo9Cx9+D2Mb9wFpR1hXGgBih13LWxDbApZfy7de3swqUXXlSfO+8bYtztdo/B7yfe3CUYIFAMB5oIQO7ZHTlqjl9zA2UYIFAABgEyxRi1hAAAEAALAJlqhFLCCAAAAA2ET9ErUNb3RazyVPYh+WqEVUEUAAAABson6J2jrnhhCWqEX7QAABAACwEZaoRXvHKlgAAAA2k+6drMGp17FUNNolAggAAIANsUQt2itKsAAAAAAYQwABAAAAYAwBBAAAAIAxBBAAAAAAxhBAAAAAABhDAAEAAABgDAEEAAAAgDEEEAAAAADGEEAAAAAAGMOd0AFAUsDyq+z4DlWfrlBnd4r69shSnCs+2t0CAMB2CCAAHK+0fJO27M3TqdOHg9u6uPsoZ1i+0r2To9gzAADshxIsAI5WWr5JG3ZPDwkfknTqdLk27J6u0vJNUeoZAAD2RAAB4FgBy68te/MkWY28Wrdta0meApbfaL8AALAzAggAxyo7vqPBlY9QlnyfHlbZ8R3G+gQAgN0RQAA4VvXpirC2AwAALSOAAHCszu6UsLYDAAAtYxUsAO2SiWVx+/bIUhd3H506Xa7G54G45En0qm+PrLDuFwAAJ3PcFZATJ05o2rRp8ng86tq1q2655RZVV1c3+56rr75aLpcr5HHbbbeFtCkrK9OkSZPUqVMn9e7dW3fddZc+++yzSB4KYFul5Zu0fOvlWvfatdpY9D2te+1aLd96edhXpIpzxStnWP4/n7nOebXu+YSh+dwPBACAMHJcAJk2bZrefvttbdu2TX/605/0yiuvaPbs2S2+b9asWTpy5Ejw8dBDDwVf8/v9mjRpks6cOaMdO3Zo7dq1WrNmjRYtWhTJQwFsyfSyuOneybph7Dp1cXtDtnsSvbph7DruAwIAQJi5LMtqrO7AlkpLSzVkyBDt3r1bY8aMkSRt3rxZ1157rQ4dOiSv19vo+66++mqNHDlSy5Yta/T1v/71r7ruuutUXl6u5ORkSdLKlSuVl5enjz76SB07dmxV/3w+n5KSklRVVSWPx9P2AwRiXMDya/nWy5tZmaquJGreN94O+1UJ7oQOAGgNvq9dOEddASksLFTXrl2D4UOSsrOzFRcXp507dzb73qefflo9e/bU0KFDtXDhQn3yySchnzts2LBg+JCknJwc+Xw+vf32201+Zm1trXw+X8gDcLJoLosb54pXv55Xaegl31K/nlcRPmJQwPLr4LFXVXJovQ4ee5X7twBAO+WoSegVFRXq3bt3yLYOHTqoe/fuqqhoepnN//iP/9Cll14qr9ert956S3l5edq3b5/+8Ic/BD/3i+FDUvB5c5+7dOlS3Xfffed7OIDtsCwuzldp+SZt2ZsXEmC7uPsoZ1g+ZXQA0M7Y4grIggULGkwSP/fxzjvvnPfnz549Wzk5ORo2bJimTZump556Shs3btT+/fsvqN8LFy5UVVVV8PHhhx9e0OcBsY5lcXE+TM8bAgBcGFtcAbnzzjt18803N9tmwIABSklJ0dGjR0O2f/bZZzpx4oRSUlr/hSYjI0OS9N5772ngwIFKSUnRrl27QtpUVlZKUrOfm5CQoISEhFbvF7A7lsVFWwUsv7bszVPj54slyaWtJXkanHodZXUA0E7YIoD06tVLvXr1arFdZmamTp48qaKiIo0ePVqS9NJLLykQCARDRWsUFxdLklJTU4Of+5Of/ERHjx4Nlnht27ZNHo9HQ4YMaePRAM5Vvyzuht3TVbcM7he/VLIsLhpqy7yhfj2vMtYvAEDTbFGC1Vrp6emaOHGiZs2apV27dum1117T3LlzNXXq1OAKWIcPH9Zll10WvKKxf/9+LVmyREVFRTp48KBeeOEFzZgxQ//yL/+i4cOHS5ImTJigIUOGaPr06frf//1fbdmyRffcc49uv/12rnAAbcSyuGgL5g0BQOyxxRWQtnj66ac1d+5cjR8/XnFxcbr++uu1fPny4Otnz57Vvn37gqtcdezYUS+++KKWLVummpoapaWl6frrr9c999wTfE98fLz+9Kc/ac6cOcrMzNTFF1+sm266Sffff7/x4wPsIN07WYNTr2NZXLSIeUMAEHscdR+Q9o51pQGgbT6/d0zz84Yice8YAM7E97UL56gSLACAvdTPG6rjOudV5g0BQHtEAAEAxDTmDQFAbHHcHBAAgP0wbwgAYgcBBABgC3GueJbaBYAYQAkWAAAAAGMIIAAAAACMIYAAAAAAMIYAAgAAAMAYAggAAAAAYwggAAAAAIwhgAAAAAAwhgACAAAAwBgCCAAAAABjCCAAAAAAjCGAAAAAADCGAAIAAADAGAIIAAAAAGMIIAAAAACMIYAAAAAAMIYAAgAAAMAYAggAAAAAYwggAAAAAIwhgAAAAAAwhgACAAAAwBgCCAAAAABjCCAAAAAAjCGAAAAAADCGAAIAAADAGAIIAAAAAGMIIAAAAACMIYAAAAAAMIYAAgAAAMAYxwWQEydOaNq0afJ4POratatuueUWVVdXN9n+4MGDcrlcjT7Wr18fbNfY688++6yJQwIAAABiRodod8C0adOm6ciRI9q2bZvOnj2rmTNnavbs2XrmmWcabZ+WlqYjR46EbPv1r3+thx9+WNdcc03I9ieffFITJ04MPu/atWvY+w8AAADEMkcFkNLSUm3evFm7d+/WmDFjJEm//OUvde211+qRRx6R1+tt8J74+HilpKSEbNu4caO+/e1vq3PnziHbu3bt2qAtAAAAgM85qgSrsLBQXbt2DYYPScrOzlZcXJx27tzZqs8oKipScXGxbrnllgav3X777erZs6fGjRun1atXy7KssPUdAAAAsANHXQGpqKhQ7969Q7Z16NBB3bt3V0VFRas+44knnlB6erqysrJCtt9///36+te/rk6dOmnr1q36/ve/r+rqav3gBz9o8rNqa2tVW1sbfO7z+dpwNAAAAEDssUUAWbBggfLz85ttU1paesH7+fTTT/XMM8/o3nvvbfDaF7eNGjVKNTU1evjhh5sNIEuXLtV99913wf0CcOECll9lx3eo+nSFOrtT1LdHluJc8dHuFgAAtmOLAHLnnXfq5ptvbrbNgAEDlJKSoqNHj4Zs/+yzz3TixIlWzd3YsGGDPvnkE82YMaPFthkZGVqyZIlqa2uVkJDQaJuFCxcqNzc3+Nzn8yktLa3FzwYQXqXlm7Rlb55OnT4c3NbF3Uc5w/KV7p0cxZ4BAGA/tgggvXr1Uq9evVpsl5mZqZMnT6qoqEijR4+WJL300ksKBALKyMho8f1PPPGE/u3f/q1V+youLla3bt2aDB+SlJCQ0OzrACKvtHyTNuyeLil0ztap0+XasHu6bhi7jhACAEAYOWoSenp6uiZOnKhZs2Zp165deu211zR37lxNnTo1uALW4cOHddlll2nXrl0h733vvff0yiuv6NZbb23wuX/84x/1m9/8RiUlJXrvvff0q1/9Sj/96U81b948I8cF4PwELL+27M3TueGjTt22rSV5Clh+o/0CAMDObHEFpC2efvppzZ07V+PHj1dcXJyuv/56LV++PPj62bNntW/fPn3yySch71u9erUuueQSTZgwocFnXnTRRVqxYoV++MMfyrIsDRo0SI8++qhmzZoV8eMBcP7Kju8IKbtqyJLv08MqO75D/XpeZaxfAADYmctirdh2w+fzKSkpSVVVVfJ4PNHuDmB7JYfWa2PR91ps939Gr9bQS75loEcAgPaO72sXzlElWADwRZ3drbtxaGvbAQCAlhFAADhW3x5Z6uLuI8nVRAuXPIl91LdHVhOvAwCAtiKAAHCsOFe8cobV30Po3BBS93zC0HzuBwIAQBgRQAA4Wrp3sm4Yu05d3N6Q7Z5EL0vwAgAQAY5bBQsAzpXunazBqddxJ3QAAAwggACA6sqxWGoXAIDIowQLAAAAgDEEEAAAAADGEEAAAAAAGEMAAQAAAGAMAQQAAACAMQQQAAAAAMYQQAAAAAAYQwABAAAAYAwBBAAAAIAxBBAAAAAAxhBAAAAAABhDAAEAAABgDAEEAAAAgDEdot0BALEhYPlVdnyHqk9XqLM7RX17ZCnOFR/tbgEAgBhDAAHQotLyTdqyN0+nTh8Obuvi7qOcYflK906OYs8AAECsoQQLQLNKyzdpw+7pIeFDkk6dLteG3dNVWr4pSj0DAACxiAACoEkBy68te/MkWY28Wrdta0meApbfaL8AAEDsIoAAaFLZ8R0NrnyEsuT79LDKju8w1icAABDbCCAAmlR9uiKs7QAAAAggAJrUKaFXWNsBAAAQQAA0yRXmdgAAAAQQAE2qqf0orO0AAAAIIACa1NmdEtZ2AAAABBAATerbI0td3H3UdJGVS57EPurbI8tktwAAQAwjgABoUpwrXjnD8v/57NwQUvd8wtB8xbnijfYLAADELgIIgGaleyfrhrHr1MXtDdnuSfTqhrHrlO6dHKWeAQCAWNQh2h0A0P6leydrcOp1Kju+Q9WnK9TZnaK+PbK48gEAANrMcVdAfvKTnygrK0udOnVS165dW/Uey7K0aNEipaamKjExUdnZ2Xr33XdD2pw4cULTpk2Tx+NR165ddcstt6i6ujoCRxAenwXO6PX9K/TXt+7U6/tX6LPAmYjuL2D5dfDYqyo5tF4Hj72qgOWP6P6isU/TY2panCte/XpepaGXfEv9el5F+AAAAOfFZVmWFe1OmLR48WJ17dpVhw4d0hNPPKGTJ0+2+J78/HwtXbpUa9euVf/+/XXvvfdq7969+sc//iG32y1Juuaaa3TkyBE9/vjjOnv2rGbOnKmxY8fqmWeeaXXffD6fkpKSVFVVJY/Hc76H2KIXS+7R6/t/KUuB4DaX4nTlwHnKHvpA2PdXWr5JW/bm6dTpw8FtXdx9lDMsP2LlO6b3aXpMAQBAdJj6vmZnjgsg9dasWaP58+e3GEAsy5LX69Wdd96pH/3oR5KkqqoqJScna82aNZo6dapKS0s1ZMgQ7d69W2PGjJEkbd68Wddee60OHTokr9fb3C6CTJzQL5bco8L9v2jy9cyBd4T1C3Np+SZt2D1d0rmnWd0E5kjMITC9T9NjCgAAoocAcuEcV4LVVgcOHFBFRYWys7OD25KSkpSRkaHCwkJJUmFhobp27RoMH5KUnZ2tuLg47dy503ifm1JXIvTLZtu8vv+xsJUOBSy/tuzNU8MgoOC2rSV5YS2NMr1P02MKAAAQ6wggLaioqJAkJScnh2xPTk4OvlZRUaHevXuHvN6hQwd179492KYxtbW18vl8IY9IeuPAqpASocZY8uuNA6vCsr+y4ztCSqAa25vv08MqO74jLPuLxj5NjykAAECss0UAWbBggVwuV7OPd955J9rdbGDp0qVKSkoKPtLS0iK6v49r3g9ru5ZUn246fJ1Pu/a4T9NjCgAAEOtssQzvnXfeqZtvvrnZNgMGDDivz05JSZEkVVZWKjU1Nbi9srJSI0eODLY5evRoyPs+++wznThxIvj+xixcuFC5ubnB5z6fL6IhpNvFrRuD1rZrSWd308d+Pu3a4z5NjykAAECss0UA6dWrl3r16hWRz+7fv79SUlJUUFAQDBw+n087d+7UnDlzJEmZmZk6efKkioqKNHr0aEnSSy+9pEAgoIyMjCY/OyEhQQkJCRHpd2PG9J+lF0v+q9mSIZfiNab/rLDsr2+PLHVx99Gp0+VqfE6GS55Er/r2yArL/qKxT9NjCgAAEOtsUYLVFmVlZSouLlZZWZn8fr+Ki4tVXFwccs+Oyy67TBs3bpQkuVwuzZ8/Xw888IBeeOEF7d27VzNmzJDX69WUKVMkSenp6Zo4caJmzZqlXbt26bXXXtPcuXM1derUVq+AZUKHuI66cuC8ZttcOXCuOsR1DMv+4lzxyhmW/89nrnNerXs+YWh+WO8nYXqfpscUAAAg1jkugCxatEijRo3S4sWLVV1drVGjRmnUqFF64403gm327dunqqqq4PO7775b8+bN0+zZszV27FhVV1dr8+bNwXuASNLTTz+tyy67TOPHj9e1116rr371q/r1r39t9NhaI3voA8oceIdc5/zoXYqPyHKx6d7JumHsOnVxhwYxT6I3IkvwRmOfpscUAAAgljn2PiDtkcl1pT8LnNEbB1bp45r31e3iARrTf1ZE/5U+YPlVdnyHqk9XqLM7RX17ZEX8Ttqm92l6TAEAgHncB+TCEUDaEU5oAACA9o3vaxfOcSVYAAAAAKKHAAIAAADAGAIIAAAAAGMIIAAAAACMIYAAAAAAMIYAAgAAAMAYAggAAAAAYwggAAAAAIwhgAAAAAAwpkO0O4DP1d+U3ufzRbknAAAAaEz997T6721oOwJIO3Lq1ClJUlpaWpR7AgAAgOacOnVKSUlJ0e5GTHJZxLd2IxAIqLy8XF26dJHL5Yr4/nw+n9LS0vThhx/K4/FEfH+xgnFpGmPTOMalaYxN4xiXpjE2jWNcmmZ6bCzL0qlTp+T1ehUXx2yG88EVkHYkLi5Ol1xyifH9ejwe/pg1gnFpGmPTOMalaYxN4xiXpjE2jWNcmmZybLjycWGIbQAAAACMIYAAAAAAMIYA4mAJCQlavHixEhISot2VdoVxaRpj0zjGpWmMTeMYl6YxNo1jXJrG2MQeJqEDAAAAMIYrIAAAAACMIYAAAAAAMIYAAgAAAMAYAggAAAAAYwggNrdixQr169dPbrdbGRkZ2rVrV7Pt169fr8suu0xut1vDhg3TX/7yF0M9Nast47JmzRq5XK6Qh9vtNthbc1555RV985vflNfrlcvl0vPPP9/ie7Zv364rrrhCCQkJGjRokNasWRPxfprW1nHZvn17g3PG5XKpoqLCTIcNWbp0qcaOHasuXbqod+/emjJlivbt29fi++z+d+Z8xsUpf2d+9atfafjw4cEbxmVmZuqvf/1rs++x+/kitX1cnHK+nOvBBx+Uy+XS/Pnzm23nhHMm1hFAbOy5555Tbm6uFi9erD179mjEiBHKycnR0aNHG22/Y8cOfec739Ett9yiN998U1OmTNGUKVNUUlJiuOeR1dZxkerurnrkyJHg44MPPjDYY3Nqamo0YsQIrVixolXtDxw4oEmTJulf//VfVVxcrPnz5+vWW2/Vli1bItxTs9o6LvX27dsXct707t07Qj2Mjpdfflm33367Xn/9dW3btk1nz57VhAkTVFNT0+R7nPB35nzGRXLG35lLLrlEDz74oIqKivTGG2/o61//uiZPnqy333670fZOOF+kto+L5Izz5Yt2796txx9/XMOHD2+2nVPOmZhnwbbGjRtn3X777cHnfr/f8nq91tKlSxtt/+1vf9uaNGlSyLaMjAzrP//zPyPaT9PaOi5PPvmklZSUZKh37Ycka+PGjc22ufvuu63LL788ZNuNN95o5eTkRLBn0dWacfnb3/5mSbI+/vhjI31qL44ePWpJsl5++eUm2zjl78wXtWZcnPp3xrIsq1u3btZvfvObRl9z4vlSr7lxcdr5curUKetLX/qStW3bNutrX/uadccddzTZ1snnTCzhCohNnTlzRkVFRcrOzg5ui4uLU3Z2tgoLCxt9T2FhYUh7ScrJyWmyfSw6n3GRpOrqal166aVKS0tr8V+lnMQJ58yFGDlypFJTU/WNb3xDr732WrS7E3FVVVWSpO7duzfZxonnTGvGRXLe3xm/369nn31WNTU1yszMbLSNE8+X1oyL5Kzz5fbbb9ekSZManAuNceI5E4sIIDZ17Ngx+f1+JScnh2xPTk5usg69oqKiTe1j0fmMy+DBg7V69Wpt2rRJv/3tbxUIBJSVlaVDhw6Z6HK71tQ54/P59Omnn0apV9GXmpqqlStX6ve//71+//vfKy0tTVdffbX27NkT7a5FTCAQ0Pz58/WVr3xFQ4cObbKdE/7OfFFrx8VJf2f27t2rzp07KyEhQbfddps2btyoIUOGNNrWSedLW8bFSefLs88+qz179mjp0qWtau+kcyaWdYh2B4D2LjMzM+RfobKyspSenq7HH39cS5YsiWLP0F4NHjxYgwcPDj7PysrS/v379fOf/1zr1q2LYs8i5/bbb1dJSYn+/ve/R7sr7Uprx8VJf2cGDx6s4uJiVVVVacOGDbrpppv08ssvN/ll2ynaMi5OOV8+/PBD3XHHHdq2bZsjJtk7CQHEpnr27Kn4+HhVVlaGbK+srFRKSkqj70lJSWlT+1h0PuNyrosuukijRo3Se++9F4kuxpSmzhmPx6PExMQo9ap9GjdunG2/nM+dO1d/+tOf9Morr+iSSy5ptq0T/s7Ua8u4nMvOf2c6duyoQYMGSZJGjx6t3bt36xe/+IUef/zxBm2ddL60ZVzOZdfzpaioSEePHtUVV1wR3Ob3+/XKK6/oscceU21treLj40Pe46RzJpZRgmVTHTt21OjRo1VQUBDcFggEVFBQ0GRNaWZmZkh7Sdq2bVuzNaix5nzG5Vx+v1979+5VampqpLoZM5xwzoRLcXGx7c4Zy7I0d+5cbdy4US+99JL69+/f4nuccM6cz7icy0l/ZwKBgGpraxt9zQnnS1OaG5dz2fV8GT9+vPbu3avi4uLgY8yYMZo2bZqKi4sbhA/J2edMTIn2LHhEzrPPPmslJCRYa9assf7xj39Ys2fPtrp27WpVVFRYlmVZ06dPtxYsWBBs/9prr1kdOnSwHnnkEau0tNRavHixddFFF1l79+6N1iFERFvH5b777rO2bNli7d+/3yoqKrKmTp1qud1u6+23347WIUTMqVOnrDfffNN68803LUnWo48+ar355pvWBx98YFmWZS1YsMCaPn16sP37779vderUybrrrrus0tJSa8WKFVZ8fLy1efPmaB1CRLR1XH7+859bzz//vPXuu+9ae/fute644w4rLi7OevHFF6N1CBExZ84cKykpydq+fbt15MiR4OOTTz4JtnHi35nzGRen/J1ZsGCB9fLLL1sHDhyw3nrrLWvBggWWy+Wytm7dalmWM88Xy2r7uDjlfGnMuatgOfWciXUEEJv75S9/afXt29fq2LGjNW7cOOv1118Pvva1r33Nuummm0La/+53v7O+/OUvWx07drQuv/xy689//rPhHpvRlnGZP39+sG1ycrJ17bXXWnv27IlCryOvfvnYcx/143HTTTdZX/va1xq8Z+TIkVbHjh2tAQMGWE8++aTxfkdaW8clPz/fGjhwoOV2u63u3btbV199tfXSSy9Fp/MR1NiYSAo5B5z4d+Z8xsUpf2e+973vWZdeeqnVsWNHq1evXtb48eODX7Ity5nni2W1fVyccr405twA4tRzJta5LMuyzF1vAQAAAOBkzAEBAAAAYAwBBAAAAIAxBBAAAAAAxhBAAAAAABhDAAEAAABgDAEEAAAAgDEEEAAAAADGEEAAAAAAGEMAAQAAAGAMAQQAAACAMQQQAAAAAMYQQAAAAAAYQwABAAAAYAwBBAAAAIAxBBAAAAAAxhBAAAAAABhDAAEAAABgDAEEAAAAgDEEEAAAAADGEEAAAAAAGEMAAQAAAGAMAQQAAACAMQQQAAAAAMYQQAAAAAAYQwABAAAAYAwBBAAAAIAxBBAAAAAAxhBAAAAAABhDAAEAAABgDAEEAAAAgDEEEAAAAADGEEAAAAAAGEMAAQAAAGDM/wdhl6MIMyhdzQAAAABJRU5ErkJggg==' width=800.0/>\n",
       "            </div>\n",
       "        "
      ],
      "text/plain": [
       "Canvas(toolbar=Toolbar(toolitems=[('Home', 'Reset original view', 'home', 'home'), ('Back', 'Back to previous …"
      ]
     },
     "metadata": {},
     "output_type": "display_data"
    }
   ],
   "source": [
    "'''\n",
    "Each experiment runs the simulation once, giving one value of (indecisiveness = I, steady-state average opinion)\n",
    "Note that if the number of steps in the simulation is not large enough, the country will not reach steady state.\n",
    "\n",
    "Note also that running this cell may take a while, \n",
    "depending on how large your cat country is, \n",
    "how many steps you are running each simulation, \n",
    "how many values of I you are testing, \n",
    "and how powerful your computer is.\n",
    "'''\n",
    "\n",
    "def one_experiment (I, num_steps):\n",
    "    '''\n",
    "    Initialize the cats' opinions\n",
    "    '''\n",
    "    cat_opinions = initialize_cat_opinions()\n",
    "    \n",
    "    '''\n",
    "    Run the Markov Chain Monte Carlo simulation to obtain cat country's steady state opinion for a given I\n",
    "    '''\n",
    "    final_cat_opinions = MCMC_cats(I, cat_opinions, num_steps)\n",
    "    \n",
    "    '''\n",
    "    Calculate and return the final average opinion\n",
    "    '''\n",
    "    avg = average_opinion(final_cat_opinions)\n",
    "    return avg\n",
    "\n",
    "'''\n",
    "Change the values of I for which you want to run simulations\n",
    "'''\n",
    "all_I_values_to_test = np.linspace(0.001, 4.001, 21)\n",
    "\n",
    "\n",
    "def all_experiments (num_experiments_per_I, num_steps):\n",
    "    results = []\n",
    "    for I in all_I_values_to_test:\n",
    "        for i in range(num_experiments_per_I):\n",
    "            results.append(np.array([I, one_experiment (I, num_steps)]))\n",
    "    return results\n",
    "\n",
    "'''\n",
    "Set the parameters of the experiments and run them to get the results\n",
    "'''\n",
    "num_experiments_per_I = 3\n",
    "num_steps = 20000\n",
    "results = all_experiments (num_experiments_per_I, num_steps)\n",
    "\n",
    "'''\n",
    "Plot the results\n",
    "'''\n",
    "\n",
    "results = np.array(results)\n",
    "fig, ax = plt.subplots(figsize=(8,5))\n",
    "\n",
    "ax.scatter(results[:,0], results[:,1], c='#82b00c')  "
   ]
  },
  {
   "cell_type": "markdown",
   "id": "778a2e0a",
   "metadata": {},
   "source": [
    "### You can clearly see the sharp phase transition that occurs below a certain value of the average cat indecisiveness!"
   ]
  },
  {
   "cell_type": "code",
   "execution_count": null,
   "id": "08931807",
   "metadata": {},
   "outputs": [],
   "source": []
  }
 ],
 "metadata": {
  "kernelspec": {
   "display_name": "Python 3 (ipykernel)",
   "language": "python",
   "name": "python3"
  },
  "language_info": {
   "codemirror_mode": {
    "name": "ipython",
    "version": 3
   },
   "file_extension": ".py",
   "mimetype": "text/x-python",
   "name": "python",
   "nbconvert_exporter": "python",
   "pygments_lexer": "ipython3",
   "version": "3.10.1"
  }
 },
 "nbformat": 4,
 "nbformat_minor": 5
}
